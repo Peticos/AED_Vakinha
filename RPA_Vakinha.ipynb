{
 "cells": [
  {
   "cell_type": "markdown",
   "metadata": {},
   "source": [
    "# <center>Vakinha - Peticos 🐶😺</center>"
   ]
  },
  {
   "cell_type": "markdown",
   "metadata": {},
   "source": [
    "Imports:"
   ]
  },
  {
   "cell_type": "code",
   "execution_count": 28,
   "metadata": {},
   "outputs": [],
   "source": [
    "from selenium.webdriver.chrome.options import Options\n",
    "from selenium.webdriver.common.by import By\n",
    "from time import sleep\n",
    "from selenium import webdriver\n",
    "import psycopg2 as pg\n",
    "import os\n",
    "from dotenv import load_dotenv"
   ]
  },
  {
   "cell_type": "markdown",
   "metadata": {},
   "source": [
    "#### Conectando com o Banco:"
   ]
  },
  {
   "cell_type": "code",
   "execution_count": 29,
   "metadata": {},
   "outputs": [],
   "source": [
    "#Pegando a senha do banco:\n",
    "load_dotenv()\n",
    "password = os.getenv('PASSWORD')"
   ]
  },
  {
   "cell_type": "code",
   "execution_count": 30,
   "metadata": {},
   "outputs": [],
   "source": [
    "#Conectando com o banco:\n",
    "conn = pg.connect(\n",
    "    dbname = \"dbPeticos_2ano\",\n",
    "    user = \"avnadmin\",\n",
    "    password = password,\n",
    "    host = \"db-peticos-cardosogih.k.aivencloud.com\",\n",
    "    port = 16207\n",
    ")\n",
    "cursor = conn.cursor()"
   ]
  },
  {
   "cell_type": "markdown",
   "metadata": {},
   "source": [
    "Obtendo o link da vakinha:"
   ]
  },
  {
   "cell_type": "code",
   "execution_count": 31,
   "metadata": {},
   "outputs": [],
   "source": [
    "#Armazendo o link da Vakinha em uma variável:\n",
    "link_vakinha = \"https://www.vakinha.com.br/vaquinha/cirurgia-da-mila-murilo-corsino?utm_internal_source=search_campaign\""
   ]
  },
  {
   "cell_type": "markdown",
   "metadata": {},
   "source": [
    "#### Abrindo site da vakinha:"
   ]
  },
  {
   "cell_type": "code",
   "execution_count": 32,
   "metadata": {},
   "outputs": [],
   "source": [
    "#Definindo para abrir a página Web em segundo plano:\n",
    "chrome_options = Options()\n",
    "chrome_options.add_argument(\"--headless\")\n",
    "\n",
    "#\"Abrindo\" o Chrome:\n",
    "driver_vakinha = webdriver.Chrome(options=chrome_options)\n",
    "\n",
    "#Abrindo o site da vakinha:\n",
    "driver_vakinha.get(link_vakinha)"
   ]
  },
  {
   "cell_type": "markdown",
   "metadata": {},
   "source": [
    "#### Pegando os valores: "
   ]
  },
  {
   "cell_type": "code",
   "execution_count": 33,
   "metadata": {},
   "outputs": [],
   "source": [
    "#Obtendo título da vakinha:\n",
    "title = str(driver_vakinha.find_element(By.XPATH, '//*[@id=\"__next\"]/div[4]/div[1]/div/div/h1').text)\n",
    "\n",
    "#Obtendo a imagem da vakinha:\n",
    "image_temp = driver_vakinha.find_element(By.XPATH, '//*[@id=\"__next\"]/div[4]/div[2]/div[1]/div/a/div/picture/div/img')\n",
    "\n",
    "#Obetando descrição da vakinha:\n",
    "description = str(driver_vakinha.find_element(By.XPATH, '//*[@id=\"__next\"]/div[4]/div[3]/div[2]/div/div[4]/p').text)\n",
    "\n",
    "#Obtendo o valor arrecado na vakinha:\n",
    "total_donated_temp = driver_vakinha.find_element(By.XPATH, '//*[@id=\"__next\"]/div[4]/div[2]/div[2]/div/div/div/div[3]/div/span').text\n",
    "\n",
    "#Obtendo a meta da vakinha:\n",
    "goal_amount_temp = driver_vakinha.find_element(By.XPATH, '//*[@id=\"__next\"]/div[4]/div[2]/div[2]/div/div/div/div[3]/div/div[3]/span').text\n",
    "\n",
    "#Obtendo a quantidade de pessoas que já doaram:\n",
    "supporters_amount_temp = driver_vakinha.find_element(By.XPATH, '//*[@id=\"__next\"]/div[4]/div[2]/div[2]/div/div/div/div[3]/div/div[4]/span').text"
   ]
  },
  {
   "cell_type": "markdown",
   "metadata": {},
   "source": [
    "#### Tratando os dados:"
   ]
  },
  {
   "cell_type": "code",
   "execution_count": 34,
   "metadata": {},
   "outputs": [],
   "source": [
    "#-------------------------------------------------------------\n",
    "#Tratando o campo imagem:\n",
    "image = str(image_temp.get_attribute('src'))\n",
    "\n",
    "#-------------------------------------------------------------\n",
    "#Tratando o campo total_donated:\n",
    "#Substituindo \"R$\" por vazio:\n",
    "total_donated_temp = total_donated_temp.replace(\"R$ \", \"\")\n",
    "\n",
    "#Substituindo o \".\" por vazio:\n",
    "total_donated_temp = total_donated_temp.replace(\".\", \"\")\n",
    "\n",
    "#Substituindo \",\" por \".\", para poder transformar em número:\n",
    "total_donated = float(total_donated_temp.replace(\",\", \".\"))\n",
    "\n",
    "#-------------------------------------------------------------\n",
    "#Tratando o campo goal_amount:\n",
    "#Substituindo \"R$\" por vazio, para poder transformar em número:\n",
    "goal_amount_temp = goal_amount_temp.replace(\"R$ \", \"\")\n",
    "\n",
    "#Substituindo o \".\" por vazio:\n",
    "goal_amount_temp = goal_amount_temp.replace(\".\", \"\")\n",
    "\n",
    "#Substituindo \",\" por \".\", para poder transformar em número:\n",
    "goal_amount = float(goal_amount_temp.replace(\",\", \".\"))\n",
    "\n",
    "#-------------------------------------------------------------\n",
    "#Tratando o campo supporters_amount:\n",
    "#Transformando o campo em int:\n",
    "supporters_amount = int(supporters_amount_temp)\n",
    "\n",
    "#-------------------------------------------------------------\n",
    "#Calculando porcentagem arrecadada do total:\n",
    "total_percentage = round(total_donated/goal_amount, 2) * 100"
   ]
  },
  {
   "cell_type": "code",
   "execution_count": 35,
   "metadata": {},
   "outputs": [
    {
     "name": "stdout",
     "output_type": "stream",
     "text": [
      "Cirurgia da Mila\n",
      "1235.0\n",
      "2700.0\n",
      "21\n",
      "Olá, eu sou o Murilo, eu e minha mãe temos uma gatinha chamada Mila, ela tem 6 anos de idade e acabou caindo do quinto andar na quinta-feira do dia 19/09, desde então ela fez alguns exames no veterinário, onde o médico ortopedista informou que ela deslocou a Coluna da Pelvica e isso temos que realizar uma cirurgia de emergência onde A cirurgia tem intuito de estabilizar o quadril para manter a qualidade da marcha e manter o canal pélvico aberto para que às fezes possam fluir sem estreitamento, foi nos passado um valor de 2200 reais + 500 da anestesia, onde eu e minha mãe não temos como arcar com esse valor neste momento, pedimos a colaboração de todos para ajudar nossa gatinha voltar a andar e realizar a cirurgia.  \n",
      "46.0\n",
      "https://static.vakinha.com.br/uploads/vakinha/image/5100296/1727182399.681.png?ims=700x410\n"
     ]
    }
   ],
   "source": [
    "print(title)\n",
    "print(total_donated)\n",
    "print(goal_amount)\n",
    "print(supporters_amount)\n",
    "print(description)\n",
    "print(total_percentage)\n",
    "print(image)\n",
    "\n",
    "id_pet = 2"
   ]
  },
  {
   "cell_type": "markdown",
   "metadata": {},
   "source": [
    "#### Inserindo dados no banco:"
   ]
  },
  {
   "cell_type": "code",
   "execution_count": 36,
   "metadata": {},
   "outputs": [],
   "source": [
    "#Executando procedure para inserir os dados no banco:\n",
    "cursor.execute(\"CALL insert_vakinha (%s, %s, %s, %s, %s, %s, %s, %s, %s)\", (id_pet, title, link_vakinha, total_donated, goal_amount, supporters_amount, total_percentage, description, image))\n",
    "\n",
    "#Comitando:\n",
    "conn.commit()\n",
    "\n",
    "#Desconectando:\n",
    "cursor.close()\n",
    "conn.close()"
   ]
  }
 ],
 "metadata": {
  "kernelspec": {
   "display_name": "Python 3",
   "language": "python",
   "name": "python3"
  },
  "language_info": {
   "codemirror_mode": {
    "name": "ipython",
    "version": 3
   },
   "file_extension": ".py",
   "mimetype": "text/x-python",
   "name": "python",
   "nbconvert_exporter": "python",
   "pygments_lexer": "ipython3",
   "version": "3.12.1"
  }
 },
 "nbformat": 4,
 "nbformat_minor": 2
}
